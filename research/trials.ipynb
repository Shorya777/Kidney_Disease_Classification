{
 "cells": [
  {
   "cell_type": "code",
   "execution_count": 1,
   "metadata": {},
   "outputs": [],
   "source": [
    "import gdown"
   ]
  },
  {
   "cell_type": "code",
   "execution_count": 2,
   "metadata": {},
   "outputs": [],
   "source": [
    "url = \"https://drive.google.com/file/d/1--nNQUASb6QOvomGrbdIBigPS4910Upv/view?usp=sharing\""
   ]
  },
  {
   "cell_type": "code",
   "execution_count": 3,
   "metadata": {},
   "outputs": [
    {
     "data": {
      "text/plain": [
       "'1--nNQUASb6QOvomGrbdIBigPS4910Upv'"
      ]
     },
     "execution_count": 3,
     "metadata": {},
     "output_type": "execute_result"
    }
   ],
   "source": [
    "file_id = url.split('/')[-2]\n",
    "file_id"
   ]
  },
  {
   "cell_type": "code",
   "execution_count": 4,
   "metadata": {},
   "outputs": [
    {
     "name": "stderr",
     "output_type": "stream",
     "text": [
      "Downloading...\n",
      "From (original): https://drive.google.com/uc?/export=download&id=1--nNQUASb6QOvomGrbdIBigPS4910Upv\n",
      "From (redirected): https://drive.google.com/uc?%2Fexport=download&id=1--nNQUASb6QOvomGrbdIBigPS4910Upv&confirm=t&uuid=026f760c-6108-4f8b-a1ac-3685f7f7c5c4\n",
      "To: d:\\ml_project\\Kidney_Disease_Classification\\research\\kidney-ct-scan-data.zip\n",
      "100%|██████████| 1.63G/1.63G [15:30<00:00, 1.75MB/s]\n"
     ]
    },
    {
     "data": {
      "text/plain": [
       "'kidney-ct-scan-data.zip'"
      ]
     },
     "execution_count": 4,
     "metadata": {},
     "output_type": "execute_result"
    }
   ],
   "source": [
    "prefix = 'https://drive.google.com/uc?/export=download&id='\n",
    "gdown.download(prefix+file_id, 'kidney-ct-scan-data.zip')"
   ]
  },
  {
   "cell_type": "code",
   "execution_count": 1,
   "metadata": {},
   "outputs": [],
   "source": [
    "!D:\\ml_project\\Kidney_Disease_Classification\\myenv\\Scripts\\activate"
   ]
  },
  {
   "cell_type": "code",
   "execution_count": 2,
   "metadata": {},
   "outputs": [
    {
     "name": "stdout",
     "output_type": "stream",
     "text": [
      "d:\\ml_project\\Kidney_Disease_Classification\\myenv\\Scripts\\python.exe\n",
      "C:\\Users\\Dell\\AppData\\Local\\Programs\\Python\\Python310\\python.exe\n",
      "C:\\Users\\Dell\\AppData\\Local\\Microsoft\\WindowsApps\\python.exe\n"
     ]
    }
   ],
   "source": [
    "!where python"
   ]
  },
  {
   "cell_type": "code",
   "execution_count": 3,
   "metadata": {},
   "outputs": [
    {
     "name": "stdout",
     "output_type": "stream",
     "text": [
      "Package                            Version\n",
      "---------------------------------- --------------\n",
      "absl-py                            2.1.0\n",
      "alembic                            1.13.1\n",
      "aniso8601                          9.0.1\n",
      "anyio                              4.4.0\n",
      "argon2-cffi                        23.1.0\n",
      "argon2-cffi-bindings               21.2.0\n",
      "arrow                              1.3.0\n",
      "asttokens                          2.4.1\n",
      "astunparse                         1.6.3\n",
      "async-lru                          2.0.4\n",
      "attrs                              23.2.0\n",
      "Babel                              2.15.0\n",
      "beautifulsoup4                     4.12.3\n",
      "bleach                             6.1.0\n",
      "blinker                            1.8.2\n",
      "cachetools                         5.3.3\n",
      "certifi                            2024.6.2\n",
      "cffi                               1.16.0\n",
      "charset-normalizer                 3.3.2\n",
      "click                              8.1.7\n",
      "cloudpickle                        2.2.1\n",
      "colorama                           0.4.6\n",
      "comm                               0.2.2\n",
      "contourpy                          1.2.1\n",
      "cycler                             0.12.1\n",
      "debugpy                            1.8.1\n",
      "decorator                          5.1.1\n",
      "defusedxml                         0.7.1\n",
      "Deprecated                         1.2.14\n",
      "docker                             7.1.0\n",
      "entrypoints                        0.4\n",
      "exceptiongroup                     1.2.1\n",
      "executing                          2.0.1\n",
      "fastjsonschema                     2.20.0\n",
      "Flask                              3.0.3\n",
      "flatbuffers                        24.3.25\n",
      "fonttools                          4.53.0\n",
      "fqdn                               1.5.1\n",
      "gast                               0.5.4\n",
      "gitdb                              4.0.11\n",
      "GitPython                          3.1.43\n",
      "google-auth                        2.30.0\n",
      "google-auth-oauthlib               1.2.0\n",
      "google-pasta                       0.2.0\n",
      "graphene                           3.3\n",
      "graphql-core                       3.2.3\n",
      "graphql-relay                      3.2.0\n",
      "greenlet                           3.0.3\n",
      "grpcio                             1.64.1\n",
      "h11                                0.14.0\n",
      "h5py                               3.11.0\n",
      "httpcore                           1.0.5\n",
      "httpx                              0.27.0\n",
      "idna                               3.7\n",
      "importlib_metadata                 7.1.0\n",
      "ipykernel                          6.29.4\n",
      "ipython                            8.25.0\n",
      "ipywidgets                         8.1.3\n",
      "isoduration                        20.11.0\n",
      "itsdangerous                       2.2.0\n",
      "jedi                               0.19.1\n",
      "Jinja2                             3.1.4\n",
      "joblib                             1.4.2\n",
      "json5                              0.9.25\n",
      "jsonpointer                        3.0.0\n",
      "jsonschema                         4.22.0\n",
      "jsonschema-specifications          2023.12.1\n",
      "jupyter                            1.0.0\n",
      "jupyter_client                     8.6.2\n",
      "jupyter-console                    6.6.3\n",
      "jupyter_core                       5.7.2\n",
      "jupyter-events                     0.10.0\n",
      "jupyter-lsp                        2.2.5\n",
      "jupyter_server                     2.14.1\n",
      "jupyter_server_terminals           0.5.3\n",
      "jupyterlab                         4.2.2\n",
      "jupyterlab_pygments                0.3.0\n",
      "jupyterlab_server                  2.27.2\n",
      "jupyterlab_widgets                 3.0.11\n",
      "keras                              2.15.0\n",
      "kiwisolver                         1.4.5\n",
      "libclang                           18.1.1\n",
      "Mako                               1.3.5\n",
      "Markdown                           3.6\n",
      "MarkupSafe                         2.1.5\n",
      "matplotlib                         3.9.0\n",
      "matplotlib-inline                  0.1.7\n",
      "mistune                            3.0.2\n",
      "ml-dtypes                          0.2.0\n",
      "mlflow                             2.14.1\n",
      "nbclient                           0.10.0\n",
      "nbconvert                          7.16.4\n",
      "nbformat                           5.10.4\n",
      "nest-asyncio                       1.6.0\n",
      "notebook                           7.2.1\n",
      "notebook_shim                      0.2.4\n",
      "numpy                              1.25.2\n",
      "oauthlib                           3.2.2\n",
      "opentelemetry-api                  1.25.0\n",
      "opentelemetry-sdk                  1.25.0\n",
      "opentelemetry-semantic-conventions 0.46b0\n",
      "opt-einsum                         3.3.0\n",
      "overrides                          7.7.0\n",
      "packaging                          24.1\n",
      "pandas                             2.2.2\n",
      "pandocfilters                      1.5.1\n",
      "parso                              0.8.4\n",
      "pillow                             10.3.0\n",
      "pip                                22.0.4\n",
      "platformdirs                       4.2.2\n",
      "prometheus_client                  0.20.0\n",
      "prompt_toolkit                     3.0.47\n",
      "protobuf                           4.25.3\n",
      "psutil                             6.0.0\n",
      "pure-eval                          0.2.2\n",
      "pyarrow                            15.0.2\n",
      "pyasn1                             0.6.0\n",
      "pyasn1_modules                     0.4.0\n",
      "pycparser                          2.22\n",
      "Pygments                           2.18.0\n",
      "pyparsing                          3.1.2\n",
      "python-dateutil                    2.9.0.post0\n",
      "python-json-logger                 2.0.7\n",
      "pytz                               2024.1\n",
      "pywin32                            306\n",
      "pywinpty                           2.0.13\n",
      "PyYAML                             6.0.1\n",
      "pyzmq                              26.0.3\n",
      "qtconsole                          5.5.2\n",
      "QtPy                               2.4.1\n",
      "querystring-parser                 1.2.4\n",
      "referencing                        0.35.1\n",
      "requests                           2.32.3\n",
      "requests-oauthlib                  2.0.0\n",
      "rfc3339-validator                  0.1.4\n",
      "rfc3986-validator                  0.1.1\n",
      "rpds-py                            0.18.1\n",
      "rsa                                4.9\n",
      "scikit-learn                       1.5.0\n",
      "scipy                              1.13.1\n",
      "Send2Trash                         1.8.3\n",
      "setuptools                         58.1.0\n",
      "six                                1.16.0\n",
      "smmap                              5.0.1\n",
      "sniffio                            1.3.1\n",
      "soupsieve                          2.5\n",
      "SQLAlchemy                         2.0.31\n",
      "sqlparse                           0.5.0\n",
      "stack-data                         0.6.3\n",
      "tensorboard                        2.15.2\n",
      "tensorboard-data-server            0.7.2\n",
      "tensorflow                         2.15.0\n",
      "tensorflow-estimator               2.15.0\n",
      "tensorflow-intel                   2.15.0\n",
      "tensorflow-io-gcs-filesystem       0.31.0\n",
      "termcolor                          2.4.0\n",
      "terminado                          0.18.1\n",
      "threadpoolctl                      3.5.0\n",
      "tinycss2                           1.3.0\n",
      "tomli                              2.0.1\n",
      "tornado                            6.4.1\n",
      "traitlets                          5.14.3\n",
      "types-python-dateutil              2.9.0.20240316\n",
      "typing_extensions                  4.12.2\n",
      "tzdata                             2024.1\n",
      "uri-template                       1.3.0\n",
      "urllib3                            2.2.2\n",
      "waitress                           3.0.0\n",
      "wcwidth                            0.2.13\n",
      "webcolors                          24.6.0\n",
      "webencodings                       0.5.1\n",
      "websocket-client                   1.8.0\n",
      "Werkzeug                           3.0.3\n",
      "wheel                              0.43.0\n",
      "widgetsnbextension                 4.0.11\n",
      "wrapt                              1.14.1\n",
      "zipp                               3.19.2\n"
     ]
    },
    {
     "name": "stderr",
     "output_type": "stream",
     "text": [
      "WARNING: You are using pip version 22.0.4; however, version 24.1 is available.\n",
      "You should consider upgrading via the 'D:\\ml_project\\Kidney_Disease_Classification\\myenv\\Scripts\\python.exe -m pip install --upgrade pip' command.\n"
     ]
    }
   ],
   "source": [
    "!pip list"
   ]
  },
  {
   "cell_type": "code",
   "execution_count": 4,
   "metadata": {},
   "outputs": [
    {
     "name": "stderr",
     "output_type": "stream",
     "text": [
      "2024/06/23 15:38:06 INFO mlflow.pyfunc: To install the dependencies that were used to train the model, run the following command: '%pip install -r C:\\Users\\Dell\\AppData\\Local\\Temp\\tmpyucrmfo5\\model\\requirements.txt'.\n"
     ]
    },
    {
     "name": "stdout",
     "output_type": "stream",
     "text": [
      "WARNING:tensorflow:From d:\\ml_project\\Kidney_Disease_Classification\\myenv\\lib\\site-packages\\keras\\src\\losses.py:2976: The name tf.losses.sparse_softmax_cross_entropy is deprecated. Please use tf.compat.v1.losses.sparse_softmax_cross_entropy instead.\n",
      "\n",
      "WARNING:tensorflow:From d:\\ml_project\\Kidney_Disease_Classification\\myenv\\lib\\site-packages\\keras\\src\\saving\\legacy\\saved_model\\load.py:107: The name tf.gfile.Exists is deprecated. Please use tf.io.gfile.exists instead.\n",
      "\n",
      "WARNING:tensorflow:From d:\\ml_project\\Kidney_Disease_Classification\\myenv\\lib\\site-packages\\keras\\src\\engine\\functional.py:156: The name tf.executing_eagerly_outside_functions is deprecated. Please use tf.compat.v1.executing_eagerly_outside_functions instead.\n",
      "\n",
      "WARNING:tensorflow:From d:\\ml_project\\Kidney_Disease_Classification\\myenv\\lib\\site-packages\\keras\\src\\layers\\pooling\\max_pooling2d.py:161: The name tf.nn.max_pool is deprecated. Please use tf.nn.max_pool2d instead.\n",
      "\n",
      "Model: \"model\"\n",
      "_________________________________________________________________\n",
      " Layer (type)                Output Shape              Param #   \n",
      "=================================================================\n",
      " input_1 (InputLayer)        [(None, 224, 224, 3)]     0         \n",
      "                                                                 \n",
      " block1_conv1 (Conv2D)       (None, 224, 224, 64)      1792      \n",
      "                                                                 \n",
      " block1_conv2 (Conv2D)       (None, 224, 224, 64)      36928     \n",
      "                                                                 \n",
      " block1_pool (MaxPooling2D)  (None, 112, 112, 64)      0         \n",
      "                                                                 \n",
      " block2_conv1 (Conv2D)       (None, 112, 112, 128)     73856     \n",
      "                                                                 \n",
      " block2_conv2 (Conv2D)       (None, 112, 112, 128)     147584    \n",
      "                                                                 \n",
      " block2_pool (MaxPooling2D)  (None, 56, 56, 128)       0         \n",
      "                                                                 \n",
      " block3_conv1 (Conv2D)       (None, 56, 56, 256)       295168    \n",
      "                                                                 \n",
      " block3_conv2 (Conv2D)       (None, 56, 56, 256)       590080    \n",
      "                                                                 \n",
      " block3_conv3 (Conv2D)       (None, 56, 56, 256)       590080    \n",
      "                                                                 \n",
      " block3_pool (MaxPooling2D)  (None, 28, 28, 256)       0         \n",
      "                                                                 \n",
      " block4_conv1 (Conv2D)       (None, 28, 28, 512)       1180160   \n",
      "                                                                 \n",
      " block4_conv2 (Conv2D)       (None, 28, 28, 512)       2359808   \n",
      "                                                                 \n",
      " block4_conv3 (Conv2D)       (None, 28, 28, 512)       2359808   \n",
      "                                                                 \n",
      " block4_pool (MaxPooling2D)  (None, 14, 14, 512)       0         \n",
      "                                                                 \n",
      " block5_conv1 (Conv2D)       (None, 14, 14, 512)       2359808   \n",
      "                                                                 \n",
      " block5_conv2 (Conv2D)       (None, 14, 14, 512)       2359808   \n",
      "                                                                 \n",
      " block5_conv3 (Conv2D)       (None, 14, 14, 512)       2359808   \n",
      "                                                                 \n",
      " block5_pool (MaxPooling2D)  (None, 7, 7, 512)         0         \n",
      "                                                                 \n",
      " flatten (Flatten)           (None, 25088)             0         \n",
      "                                                                 \n",
      " dense (Dense)               (None, 100)               2508900   \n",
      "                                                                 \n",
      " dense_1 (Dense)             (None, 4)                 404       \n",
      "                                                                 \n",
      "=================================================================\n",
      "Total params: 17223992 (65.70 MB)\n",
      "Trainable params: 2509304 (9.57 MB)\n",
      "Non-trainable params: 14714688 (56.13 MB)\n",
      "_________________________________________________________________\n"
     ]
    }
   ],
   "source": [
    "import mlflow\n",
    "\n",
    "mlflow.set_tracking_uri(\"https://dagshub.com/shoryasinghal100/Kidney_Disease_Classification.mlflow\")\n",
    "\n",
    "logged_model = 'runs:/3f9f54a765604bdc842c05cd475bf02e/model'\n",
    "\n",
    "mlflow.pyfunc.get_model_dependencies(logged_model)\n",
    "\n",
    "# Load model as a PyFuncModel.\n",
    "loaded_model = mlflow.keras.load_model(logged_model)\n",
    "\n",
    "loaded_model.summary()"
   ]
  }
 ],
 "metadata": {
  "kernelspec": {
   "display_name": "Python (myenv)",
   "language": "python",
   "name": "myenv"
  },
  "language_info": {
   "codemirror_mode": {
    "name": "ipython",
    "version": 3
   },
   "file_extension": ".py",
   "mimetype": "text/x-python",
   "name": "python",
   "nbconvert_exporter": "python",
   "pygments_lexer": "ipython3",
   "version": "3.10.5"
  }
 },
 "nbformat": 4,
 "nbformat_minor": 2
}
